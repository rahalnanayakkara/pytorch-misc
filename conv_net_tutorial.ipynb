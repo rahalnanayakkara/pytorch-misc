{
 "cells": [
  {
   "attachments": {},
   "cell_type": "markdown",
   "metadata": {},
   "source": [
    "# Convolutional Neural Network"
   ]
  },
  {
   "cell_type": "code",
   "execution_count": 1,
   "metadata": {},
   "outputs": [],
   "source": [
    "import torch\n",
    "import torch.nn as nn\n",
    "import torchvision\n",
    "import torchvision.transforms as transforms\n",
    "import matplotlib.pyplot as plt\n",
    "import torchsummary"
   ]
  },
  {
   "attachments": {},
   "cell_type": "markdown",
   "metadata": {},
   "source": [
    "### Hyperparameters"
   ]
  },
  {
   "cell_type": "code",
   "execution_count": 2,
   "metadata": {},
   "outputs": [],
   "source": [
    "num_epochs = 4\n",
    "batch_size = 4\n",
    "learning_rate = 0.001"
   ]
  },
  {
   "attachments": {},
   "cell_type": "markdown",
   "metadata": {},
   "source": [
    "### Load CIFAR Dataset"
   ]
  },
  {
   "cell_type": "code",
   "execution_count": 3,
   "metadata": {},
   "outputs": [],
   "source": [
    "transform = transforms.Compose([\n",
    "    transforms.ToTensor(),                                          # convert to tensor first\n",
    "    transforms.Normalize((0.5, 0.5, 0.5),(0.5, 0.5, 0.5)) ])        # normalize\n",
    "\n",
    "# Normalize each channel RGB with means (0.5, 0.5, 0.5) and std dev (0.5, 0.5, 0.5)"
   ]
  },
  {
   "cell_type": "code",
   "execution_count": 4,
   "metadata": {},
   "outputs": [
    {
     "name": "stdout",
     "output_type": "stream",
     "text": [
      "Files already downloaded and verified\n",
      "Files already downloaded and verified\n",
      "Dataset CIFAR10\n",
      "    Number of datapoints: 50000\n",
      "    Root location: ./data/CIFAR10\n",
      "    Split: Train\n",
      "    StandardTransform\n",
      "Transform: Compose(\n",
      "               ToTensor()\n",
      "               Normalize(mean=(0.5, 0.5, 0.5), std=(0.5, 0.5, 0.5))\n",
      "           )\n"
     ]
    }
   ],
   "source": [
    "train_dataset = torchvision.datasets.CIFAR10(root=\"./data/CIFAR10\", train=True, transform=transform, download=True)\n",
    "test_dataset = torchvision.datasets.CIFAR10(root=\"./data/CIFAR10\", train=False, transform=transform, download=True)\n",
    "\n",
    "print(train_dataset)"
   ]
  },
  {
   "cell_type": "code",
   "execution_count": 5,
   "metadata": {},
   "outputs": [
    {
     "name": "stdout",
     "output_type": "stream",
     "text": [
      "Number of mini batches 12500\n"
     ]
    }
   ],
   "source": [
    "train_loader = torch.utils.data.DataLoader(dataset=train_dataset, batch_size=batch_size, shuffle=True)\n",
    "test_loader = torch.utils.data.DataLoader(dataset=test_dataset, batch_size=batch_size, shuffle=False)\n",
    "\n",
    "print(\"Number of mini batches\", len(train_loader))"
   ]
  },
  {
   "cell_type": "code",
   "execution_count": 6,
   "metadata": {},
   "outputs": [],
   "source": [
    "# 10 Classes in CIFAR10 Dataset\n",
    "\n",
    "CLASSES = [\"Plane\", \"Car\", \"Bird\", \"Cat\", \"Deer\", \"Dog\", \"Frog\", \"Horse\", \"Ship\", \"Truck\"]"
   ]
  },
  {
   "cell_type": "code",
   "execution_count": 7,
   "metadata": {},
   "outputs": [
    {
     "name": "stdout",
     "output_type": "stream",
     "text": [
      "Shape of images :  torch.Size([4, 3, 32, 32])\n",
      "Shape of labels :  torch.Size([4])\n"
     ]
    }
   ],
   "source": [
    "images, labels = next(iter(train_loader))\n",
    "print(\"Shape of images : \", images.shape)\n",
    "print(\"Shape of labels : \", labels.shape)"
   ]
  },
  {
   "cell_type": "code",
   "execution_count": 8,
   "metadata": {},
   "outputs": [
    {
     "data": {
      "image/png": "[encoded data removed]",
      "text/plain": [
       "<Figure size 640x480 with 4 Axes>"
      ]
     },
     "metadata": {},
     "output_type": "display_data"
    }
   ],
   "source": [
    "for i in range(4):\n",
    "    plt.subplot(1, 4, i+1)\n",
    "    plt.imshow(images[i].movedim(0,-1)*0.5+0.5)\n",
    "    plt.title(CLASSES[labels[i]])"
   ]
  },
  {
   "attachments": {},
   "cell_type": "markdown",
   "metadata": {},
   "source": [
    "## Model"
   ]
  },
  {
   "attachments": {},
   "cell_type": "markdown",
   "metadata": {},
   "source": [
    "Consider the layers which change the dimensions :"
   ]
  },
  {
   "cell_type": "code",
   "execution_count": 9,
   "metadata": {},
   "outputs": [
    {
     "name": "stdout",
     "output_type": "stream",
     "text": [
      "Input shape :  torch.Size([4, 3, 32, 32])\n",
      "After conv1 :  torch.Size([4, 6, 28, 28])\n",
      "After pool :  torch.Size([4, 6, 14, 14])\n",
      "After conv2 :  torch.Size([4, 16, 10, 10])\n",
      "After pool :  torch.Size([4, 16, 5, 5])\n"
     ]
    }
   ],
   "source": [
    "# Input = (m, 3, 32, 32)\n",
    "\n",
    "print(\"Input shape : \", images.shape)\n",
    "\n",
    "conv1 = nn.Conv2d(in_channels=3, out_channels=6, kernel_size=5)\n",
    "tens = conv1(images)\n",
    "print(\"After conv1 : \", tens.shape)\n",
    "\n",
    "pool = nn.MaxPool2d(kernel_size=2, stride=2)\n",
    "tens = pool(tens)\n",
    "print(\"After pool : \", tens.shape)\n",
    "\n",
    "conv2 = nn.Conv2d(in_channels=6, out_channels=16, kernel_size=5)\n",
    "tens = conv2(tens)\n",
    "print(\"After conv2 : \", tens.shape)\n",
    "\n",
    "tens = pool(tens)\n",
    "print(\"After pool : \", tens.shape)\n",
    "\n",
    "# Output shape = (m, 16, 5, 5)"
   ]
  },
  {
   "attachments": {},
   "cell_type": "markdown",
   "metadata": {},
   "source": [
    "Two Methods to Flatten Data"
   ]
  },
  {
   "cell_type": "code",
   "execution_count": 10,
   "metadata": {},
   "outputs": [
    {
     "name": "stdout",
     "output_type": "stream",
     "text": [
      "After flatten :  torch.Size([4, 400])\n",
      "After flatten :  torch.Size([4, 400])\n"
     ]
    }
   ],
   "source": [
    "flat = tens.flatten(start_dim=1)            # Caused an error in plotting\n",
    "print(\"After flatten : \", flat.shape)\n",
    "\n",
    "flat = tens.view(-1, 16*5*5)                # Use this\n",
    "print(\"After flatten : \", flat.shape)"
   ]
  },
  {
   "cell_type": "code",
   "execution_count": 11,
   "metadata": {},
   "outputs": [],
   "source": [
    "class ConvNet(nn.Module):\n",
    "\n",
    "    def __init__(self):\n",
    "        super().__init__()\n",
    "        self.conv1 = nn.Conv2d(in_channels=3, out_channels=6, kernel_size=5)\n",
    "        self.conv2 = nn.Conv2d(in_channels=6, out_channels=16, kernel_size=5)\n",
    "        self.pool = nn.MaxPool2d(kernel_size=2, stride=2)\n",
    "        self.fc1 = nn.Linear(in_features=16*5*5, out_features=120)\n",
    "        self.fc2 = nn.Linear(in_features=120, out_features=84)\n",
    "        self.fc3 = nn.Linear(in_features=84, out_features=10)\n",
    "\n",
    "    def forward(self, x):\n",
    "        # Convolution part\n",
    "        z = nn.functional.relu(self.conv1(x))\n",
    "        z = self.pool(z)\n",
    "        z = nn.functional.relu(self.conv2(z))\n",
    "        z = self.pool(z)\n",
    "\n",
    "        # Flatten\n",
    "        z = z.view(-1, 16*5*5)\n",
    "\n",
    "        # Fully Connected Part\n",
    "        z = nn.functional.relu(self.fc1(z))\n",
    "        z = nn.functional.relu(self.fc2(z))\n",
    "        z = self.fc3(z)\n",
    "        return z\n"
   ]
  },
  {
   "cell_type": "code",
   "execution_count": 12,
   "metadata": {},
   "outputs": [],
   "source": [
    "model = ConvNet()"
   ]
  },
  {
   "attachments": {},
   "cell_type": "markdown",
   "metadata": {},
   "source": [
    "### Print Model Summary"
   ]
  },
  {
   "cell_type": "code",
   "execution_count": 13,
   "metadata": {},
   "outputs": [
    {
     "name": "stdout",
     "output_type": "stream",
     "text": [
      "----------------------------------------------------------------\n",
      "        Layer (type)               Output Shape         Param #\n",
      "================================================================\n",
      "            Conv2d-1            [-1, 6, 28, 28]             456\n",
      "         MaxPool2d-2            [-1, 6, 14, 14]               0\n",
      "            Conv2d-3           [-1, 16, 10, 10]           2,416\n",
      "         MaxPool2d-4             [-1, 16, 5, 5]               0\n",
      "            Linear-5                  [-1, 120]          48,120\n",
      "            Linear-6                   [-1, 84]          10,164\n",
      "            Linear-7                   [-1, 10]             850\n",
      "           ConvNet-8                   [-1, 10]               0\n",
      "================================================================\n",
      "Total params: 62,006\n",
      "Trainable params: 62,006\n",
      "Non-trainable params: 0\n",
      "----------------------------------------------------------------\n",
      "Input size (MB): 0.01\n",
      "Forward/backward pass size (MB): 0.06\n",
      "Params size (MB): 0.24\n",
      "Estimated Total Size (MB): 0.31\n",
      "----------------------------------------------------------------\n",
      "\n"
     ]
    },
    {
     "data": {
      "text/plain": [
       "(tensor(62006), tensor(62006))"
      ]
     },
     "execution_count": 13,
     "metadata": {},
     "output_type": "execute_result"
    }
   ],
   "source": [
    "torchsummary.summary(model, (3, 32, 32), device=torch.device(\"cpu\"))"
   ]
  },
  {
   "attachments": {},
   "cell_type": "markdown",
   "metadata": {},
   "source": [
    "### Output Model Graph"
   ]
  },
  {
   "cell_type": "code",
   "execution_count": 14,
   "metadata": {},
   "outputs": [],
   "source": [
    "input_names = ['CIFAR10 Image']\n",
    "output_names = ['Class']\n",
    "x = torch.rand((3, 32, 32))\n",
    "torch.onnx.export(model, x, './models/conv_net.onnx', input_names=input_names, output_names=output_names)"
   ]
  },
  {
   "attachments": {},
   "cell_type": "markdown",
   "metadata": {},
   "source": [
    "## Loss and Optimizer"
   ]
  },
  {
   "cell_type": "code",
   "execution_count": 15,
   "metadata": {},
   "outputs": [],
   "source": [
    "loss_fn = nn.CrossEntropyLoss()\n",
    "optimizer = torch.optim.Adam(model.parameters(), lr=learning_rate)"
   ]
  },
  {
   "attachments": {},
   "cell_type": "markdown",
   "metadata": {},
   "source": [
    "## Training"
   ]
  },
  {
   "cell_type": "code",
   "execution_count": 16,
   "metadata": {},
   "outputs": [
    {
     "name": "stdout",
     "output_type": "stream",
     "text": [
      "12500\n"
     ]
    }
   ],
   "source": [
    "n_total_steps = len(train_loader)\n",
    "print(n_total_steps)"
   ]
  },
  {
   "cell_type": "code",
   "execution_count": 17,
   "metadata": {},
   "outputs": [
    {
     "name": "stdout",
     "output_type": "stream",
     "text": [
      "epoch = 1, mini-batch = 2500, loss = 1.5471\n",
      "epoch = 1, mini-batch = 5000, loss = 0.8339\n",
      "epoch = 1, mini-batch = 7500, loss = 1.6034\n",
      "epoch = 1, mini-batch = 10000, loss = 1.7936\n",
      "epoch = 1, mini-batch = 12500, loss = 0.7637\n",
      "Epoch 1 Complete!\n",
      "epoch = 2, mini-batch = 2500, loss = 0.6721\n",
      "epoch = 2, mini-batch = 5000, loss = 0.9277\n",
      "epoch = 2, mini-batch = 7500, loss = 1.7035\n",
      "epoch = 2, mini-batch = 10000, loss = 1.6942\n",
      "epoch = 2, mini-batch = 12500, loss = 0.4763\n",
      "Epoch 2 Complete!\n",
      "epoch = 3, mini-batch = 2500, loss = 1.1107\n",
      "epoch = 3, mini-batch = 5000, loss = 1.8641\n",
      "epoch = 3, mini-batch = 7500, loss = 1.0158\n",
      "epoch = 3, mini-batch = 10000, loss = 1.3853\n",
      "epoch = 3, mini-batch = 12500, loss = 0.8034\n",
      "Epoch 3 Complete!\n",
      "epoch = 4, mini-batch = 2500, loss = 1.6258\n",
      "epoch = 4, mini-batch = 5000, loss = 1.3774\n",
      "epoch = 4, mini-batch = 7500, loss = 0.8217\n",
      "epoch = 4, mini-batch = 10000, loss = 0.0571\n",
      "epoch = 4, mini-batch = 12500, loss = 1.0472\n",
      "Epoch 4 Complete!\n"
     ]
    }
   ],
   "source": [
    "losses = []\n",
    "\n",
    "for epoch in range(num_epochs):\n",
    "    for i, (images, labels) in enumerate(train_loader):\n",
    "\n",
    "        # forward pass\n",
    "        outputs = model(images)\n",
    "        loss = loss_fn(outputs, labels)\n",
    "\n",
    "        # backward pass\n",
    "        optimizer.zero_grad()\n",
    "        loss.backward()\n",
    "        optimizer.step()\n",
    "\n",
    "        losses.append(loss.item())\n",
    "        \n",
    "        if (i+1) % 2500 == 0:\n",
    "            print(f\"epoch = {epoch+1}, mini-batch = {i+1}, loss = {loss.item():.4f}\")\n",
    "    print(f\"Epoch {epoch+1} Complete!\")"
   ]
  },
  {
   "cell_type": "code",
   "execution_count": 18,
   "metadata": {},
   "outputs": [
    {
     "data": {
      "text/plain": [
       "Text(0, 0.5, 'loss')"
      ]
     },
     "execution_count": 18,
     "metadata": {},
     "output_type": "execute_result"
    },
    {
     "data": {
      "image/png": "[encoded data removed]",
      "text/plain": [
       "<Figure size 640x480 with 1 Axes>"
      ]
     },
     "metadata": {},
     "output_type": "display_data"
    }
   ],
   "source": [
    "plt.plot(losses)\n",
    "plt.title(\"Loss\")\n",
    "plt.xlabel(\"iteration\")\n",
    "plt.ylabel(\"loss\")"
   ]
  },
  {
   "attachments": {},
   "cell_type": "markdown",
   "metadata": {},
   "source": [
    "## Testing"
   ]
  },
  {
   "cell_type": "code",
   "execution_count": 23,
   "metadata": {},
   "outputs": [
    {
     "name": "stdout",
     "output_type": "stream",
     "text": [
      "Output shape :  torch.Size([4, 10])\n",
      "Prediction shape :  torch.Size([4])\n",
      "Label shape :  torch.Size([4])\n"
     ]
    }
   ],
   "source": [
    "print(\"Output shape : \", outputs.shape)\n",
    "\n",
    "_, predictions = torch.max(outputs, dim=1)      # keepDims=False by default\n",
    "print(\"Prediction shape : \", predictions.shape)\n",
    "\n",
    "print(\"Label shape : \", labels.shape)"
   ]
  },
  {
   "cell_type": "code",
   "execution_count": 38,
   "metadata": {},
   "outputs": [
    {
     "name": "stdout",
     "output_type": "stream",
     "text": [
      "Accuracy = 59.17%\n"
     ]
    }
   ],
   "source": [
    "with torch.no_grad():\n",
    "    n_correct = 0\n",
    "    n_total = 0\n",
    "    n_class_correct = [0]*len(CLASSES)\n",
    "    n_class_total = [0]*len(CLASSES)\n",
    "    for images, labels in test_loader:\n",
    "        outputs = model(images)\n",
    "        _, predictions = torch.max(outputs, dim=1)\n",
    "\n",
    "        n_total += outputs.shape[0]\n",
    "        n_correct += (predictions==labels).sum().item()\n",
    "\n",
    "        for i in range(batch_size):\n",
    "            n_class_total[labels[i]] += 1\n",
    "            n_class_correct[labels[i]] += 1 if labels[i]==predictions[i] else 0\n",
    "\n",
    "acc = 100.0*n_correct/n_total\n",
    "\n",
    "print(f'Accuracy = {acc:.2f}%')"
   ]
  },
  {
   "cell_type": "code",
   "execution_count": 42,
   "metadata": {},
   "outputs": [
    {
     "name": "stdout",
     "output_type": "stream",
     "text": [
      "Class wise accuracies :\n",
      "\n",
      "\t Plane \t 73.1%\n",
      "\t Car \t 59.0%\n",
      "\t Bird \t 45.5%\n",
      "\t Cat \t 45.2%\n",
      "\t Deer \t 57.4%\n",
      "\t Dog \t 45.7%\n",
      "\t Frog \t 73.2%\n",
      "\t Horse \t 56.0%\n",
      "\t Ship \t 70.2%\n",
      "\t Truck \t 66.4%\n"
     ]
    }
   ],
   "source": [
    "print(\"Class wise accuracies :\")\n",
    "print(\"\")\n",
    "acc_class = [0]*10\n",
    "for i in range(len(CLASSES)):\n",
    "    acc_class = 100.0*n_class_correct[i]/n_class_total[i]\n",
    "    print(f'\\t {CLASSES[i]} \\t {acc_class}%')"
   ]
  },
  {
   "attachments": {},
   "cell_type": "markdown",
   "metadata": {},
   "source": [
    "Train for more epochs to obtain a better accuracy"
   ]
  },
  {
   "cell_type": "code",
   "execution_count": null,
   "metadata": {},
   "outputs": [],
   "source": []
  }
 ],
 "metadata": {
  "kernelspec": {
   "display_name": "base",
   "language": "python",
   "name": "python3"
  },
  "language_info": {
   "codemirror_mode": {
    "name": "ipython",
    "version": 3
   },
   "file_extension": ".py",
   "mimetype": "text/x-python",
   "name": "python",
   "nbconvert_exporter": "python",
   "pygments_lexer": "ipython3",
   "version": "3.9.13"
  },
  "orig_nbformat": 4,
  "vscode": {
   "interpreter": {
    "hash": "ad2bdc8ecc057115af97d19610ffacc2b4e99fae6737bb82f5d7fb13d2f2c186"
   }
  }
 },
 "nbformat": 4,
 "nbformat_minor": 2
}

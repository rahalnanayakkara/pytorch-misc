{
 "cells": [
  {
   "attachments": {},
   "cell_type": "markdown",
   "metadata": {},
   "source": [
    "# Convolutional Neural Network"
   ]
  },
  {
   "cell_type": "code",
   "execution_count": 1,
   "metadata": {},
   "outputs": [],
   "source": [
    "import torch\n",
    "import torch.nn as nn\n",
    "import torchvision\n",
    "import torchvision.transforms as transforms\n",
    "import matplotlib.pyplot as plt\n",
    "import torchsummary"
   ]
  },
  {
   "attachments": {},
   "cell_type": "markdown",
   "metadata": {},
   "source": [
    "### Hyperparameters"
   ]
  },
  {
   "cell_type": "code",
   "execution_count": 2,
   "metadata": {},
   "outputs": [],
   "source": [
    "num_epochs = 30\n",
    "batch_size = 4\n",
    "learning_rate = 0.001"
   ]
  },
  {
   "attachments": {},
   "cell_type": "markdown",
   "metadata": {},
   "source": [
    "### Load CIFAR Dataset"
   ]
  },
  {
   "cell_type": "code",
   "execution_count": 3,
   "metadata": {},
   "outputs": [],
   "source": [
    "transform = transforms.Compose([\n",
    "    transforms.ToTensor(),                                          # convert to tensor first\n",
    "    transforms.Normalize((0.5, 0.5, 0.5),(0.5, 0.5, 0.5)) ])        # normalize\n",
    "\n",
    "# Normalize each channel RGB with means (0.5, 0.5, 0.5) and std dev (0.5, 0.5, 0.5)"
   ]
  },
  {
   "cell_type": "code",
   "execution_count": 4,
   "metadata": {},
   "outputs": [
    {
     "name": "stdout",
     "output_type": "stream",
     "text": [
      "Files already downloaded and verified\n",
      "Files already downloaded and verified\n",
      "Dataset CIFAR10\n",
      "    Number of datapoints: 50000\n",
      "    Root location: ./data/CIFAR10\n",
      "    Split: Train\n",
      "    StandardTransform\n",
      "Transform: Compose(\n",
      "               ToTensor()\n",
      "               Normalize(mean=(0.5, 0.5, 0.5), std=(0.5, 0.5, 0.5))\n",
      "           )\n"
     ]
    }
   ],
   "source": [
    "train_dataset = torchvision.datasets.CIFAR10(root=\"./data/CIFAR10\", train=True, transform=transform, download=True)\n",
    "test_dataset = torchvision.datasets.CIFAR10(root=\"./data/CIFAR10\", train=False, transform=transform, download=True)\n",
    "\n",
    "print(train_dataset)"
   ]
  },
  {
   "cell_type": "code",
   "execution_count": 5,
   "metadata": {},
   "outputs": [
    {
     "name": "stdout",
     "output_type": "stream",
     "text": [
      "Number of mini batches 12500\n"
     ]
    }
   ],
   "source": [
    "train_loader = torch.utils.data.DataLoader(dataset=train_dataset, batch_size=batch_size, shuffle=True)\n",
    "test_loader = torch.utils.data.DataLoader(dataset=test_dataset, batch_size=batch_size, shuffle=False)\n",
    "\n",
    "print(\"Number of mini batches\", len(train_loader))"
   ]
  },
  {
   "cell_type": "code",
   "execution_count": 6,
   "metadata": {},
   "outputs": [],
   "source": [
    "# 10 Classes in CIFAR10 Dataset\n",
    "\n",
    "CLASSES = [\"Plane\", \"Car\", \"Bird\", \"Cat\", \"Deer\", \"Dog\", \"Frog\", \"Horse\", \"Ship\", \"Truck\"]"
   ]
  },
  {
   "cell_type": "code",
   "execution_count": 7,
   "metadata": {},
   "outputs": [
    {
     "name": "stdout",
     "output_type": "stream",
     "text": [
      "Shape of images :  torch.Size([4, 3, 32, 32])\n",
      "Shape of labels :  torch.Size([4])\n"
     ]
    }
   ],
   "source": [
    "images, labels = next(iter(train_loader))\n",
    "print(\"Shape of images : \", images.shape)\n",
    "print(\"Shape of labels : \", labels.shape)"
   ]
  },
  {
   "cell_type": "code",
   "execution_count": 8,
   "metadata": {},
   "outputs": [
    {
     "data": {
      "image/png": "[encoded data removed]",
      "text/plain": [
       "<Figure size 640x480 with 4 Axes>"
      ]
     },
     "metadata": {},
     "output_type": "display_data"
    }
   ],
   "source": [
    "for i in range(4):\n",
    "    plt.subplot(1, 4, i+1)\n",
    "    plt.imshow(images[i].movedim(0,-1)*0.5+0.5)\n",
    "    plt.title(CLASSES[labels[i]])"
   ]
  },
  {
   "attachments": {},
   "cell_type": "markdown",
   "metadata": {},
   "source": [
    "## Model"
   ]
  },
  {
   "attachments": {},
   "cell_type": "markdown",
   "metadata": {},
   "source": [
    "Consider the layers which change the dimensions :"
   ]
  },
  {
   "cell_type": "code",
   "execution_count": 9,
   "metadata": {},
   "outputs": [
    {
     "name": "stdout",
     "output_type": "stream",
     "text": [
      "Input shape :  torch.Size([4, 3, 32, 32])\n",
      "After conv1 :  torch.Size([4, 6, 28, 28])\n",
      "After pool :  torch.Size([4, 6, 14, 14])\n",
      "After conv2 :  torch.Size([4, 16, 10, 10])\n",
      "After pool :  torch.Size([4, 16, 5, 5])\n"
     ]
    }
   ],
   "source": [
    "# Input = (m, 3, 32, 32)\n",
    "\n",
    "print(\"Input shape : \", images.shape)\n",
    "\n",
    "conv1 = nn.Conv2d(in_channels=3, out_channels=6, kernel_size=5)\n",
    "tens = conv1(images)\n",
    "print(\"After conv1 : \", tens.shape)\n",
    "\n",
    "pool = nn.MaxPool2d(kernel_size=2, stride=2)\n",
    "tens = pool(tens)\n",
    "print(\"After pool : \", tens.shape)\n",
    "\n",
    "conv2 = nn.Conv2d(in_channels=6, out_channels=16, kernel_size=5)\n",
    "tens = conv2(tens)\n",
    "print(\"After conv2 : \", tens.shape)\n",
    "\n",
    "tens = pool(tens)\n",
    "print(\"After pool : \", tens.shape)\n",
    "\n",
    "# Output shape = (m, 16, 5, 5)"
   ]
  },
  {
   "attachments": {},
   "cell_type": "markdown",
   "metadata": {},
   "source": [
    "Two Methods to Flatten Data"
   ]
  },
  {
   "cell_type": "code",
   "execution_count": 10,
   "metadata": {},
   "outputs": [
    {
     "name": "stdout",
     "output_type": "stream",
     "text": [
      "After flatten :  torch.Size([4, 400])\n",
      "After flatten :  torch.Size([4, 400])\n"
     ]
    }
   ],
   "source": [
    "flat = tens.flatten(start_dim=1)            # Caused an error in plotting\n",
    "print(\"After flatten : \", flat.shape)\n",
    "\n",
    "flat = tens.view(-1, 16*5*5)                # Use this\n",
    "print(\"After flatten : \", flat.shape)"
   ]
  },
  {
   "cell_type": "code",
   "execution_count": 11,
   "metadata": {},
   "outputs": [],
   "source": [
    "class ConvNet(nn.Module):\n",
    "\n",
    "    def __init__(self):\n",
    "        super().__init__()\n",
    "        self.conv1 = nn.Conv2d(in_channels=3, out_channels=6, kernel_size=5)\n",
    "        self.conv2 = nn.Conv2d(in_channels=6, out_channels=16, kernel_size=5)\n",
    "        self.pool = nn.MaxPool2d(kernel_size=2, stride=2)\n",
    "        self.fc1 = nn.Linear(in_features=16*5*5, out_features=120)\n",
    "        self.fc2 = nn.Linear(in_features=120, out_features=84)\n",
    "        self.fc3 = nn.Linear(in_features=84, out_features=10)\n",
    "\n",
    "    def forward(self, x):\n",
    "        # Convolution part\n",
    "        z = nn.functional.relu(self.conv1(x))\n",
    "        z = self.pool(z)\n",
    "        z = nn.functional.relu(self.conv2(z))\n",
    "        z = self.pool(z)\n",
    "\n",
    "        # Flatten\n",
    "        z = z.view(-1, 16*5*5)\n",
    "\n",
    "        # Fully Connected Part\n",
    "        z = nn.functional.relu(self.fc1(z))\n",
    "        z = nn.functional.relu(self.fc2(z))\n",
    "        z = self.fc3(z)\n",
    "        return z\n"
   ]
  },
  {
   "cell_type": "code",
   "execution_count": 12,
   "metadata": {},
   "outputs": [],
   "source": [
    "model = ConvNet()"
   ]
  },
  {
   "attachments": {},
   "cell_type": "markdown",
   "metadata": {},
   "source": [
    "### Print Model Summary"
   ]
  },
  {
   "cell_type": "code",
   "execution_count": 13,
   "metadata": {},
   "outputs": [
    {
     "name": "stdout",
     "output_type": "stream",
     "text": [
      "----------------------------------------------------------------\n",
      "        Layer (type)               Output Shape         Param #\n",
      "================================================================\n",
      "            Conv2d-1            [-1, 6, 28, 28]             456\n",
      "         MaxPool2d-2            [-1, 6, 14, 14]               0\n",
      "            Conv2d-3           [-1, 16, 10, 10]           2,416\n",
      "         MaxPool2d-4             [-1, 16, 5, 5]               0\n",
      "            Linear-5                  [-1, 120]          48,120\n",
      "            Linear-6                   [-1, 84]          10,164\n",
      "            Linear-7                   [-1, 10]             850\n",
      "           ConvNet-8                   [-1, 10]               0\n",
      "================================================================\n",
      "Total params: 62,006\n",
      "Trainable params: 62,006\n",
      "Non-trainable params: 0\n",
      "----------------------------------------------------------------\n",
      "Input size (MB): 0.01\n",
      "Forward/backward pass size (MB): 0.06\n",
      "Params size (MB): 0.24\n",
      "Estimated Total Size (MB): 0.31\n",
      "----------------------------------------------------------------\n",
      "\n"
     ]
    },
    {
     "data": {
      "text/plain": [
       "(tensor(62006), tensor(62006))"
      ]
     },
     "execution_count": 13,
     "metadata": {},
     "output_type": "execute_result"
    }
   ],
   "source": [
    "torchsummary.summary(model, (3, 32, 32), device=torch.device(\"cpu\"))"
   ]
  },
  {
   "attachments": {},
   "cell_type": "markdown",
   "metadata": {},
   "source": [
    "### Output Model Graph"
   ]
  },
  {
   "cell_type": "code",
   "execution_count": 14,
   "metadata": {},
   "outputs": [],
   "source": [
    "input_names = ['CIFAR10 Image']\n",
    "output_names = ['Class']\n",
    "x = torch.rand((3, 32, 32))\n",
    "torch.onnx.export(model, x, './models/conv_net.onnx', input_names=input_names, output_names=output_names)"
   ]
  },
  {
   "attachments": {},
   "cell_type": "markdown",
   "metadata": {},
   "source": [
    "## Loss and Optimizer"
   ]
  },
  {
   "cell_type": "code",
   "execution_count": 15,
   "metadata": {},
   "outputs": [],
   "source": [
    "loss_fn = nn.CrossEntropyLoss()\n",
    "optimizer = torch.optim.Adam(model.parameters(), lr=learning_rate)"
   ]
  },
  {
   "attachments": {},
   "cell_type": "markdown",
   "metadata": {},
   "source": [
    "## Training"
   ]
  },
  {
   "cell_type": "code",
   "execution_count": 16,
   "metadata": {},
   "outputs": [
    {
     "name": "stdout",
     "output_type": "stream",
     "text": [
      "12500\n"
     ]
    }
   ],
   "source": [
    "n_total_steps = len(train_loader)\n",
    "print(n_total_steps)"
   ]
  },
  {
   "cell_type": "code",
   "execution_count": 17,
   "metadata": {},
   "outputs": [
    {
     "name": "stdout",
     "output_type": "stream",
     "text": [
      "epoch = 1, mini-batch = 2500, loss = 1.8259\n",
      "epoch = 1, mini-batch = 5000, loss = 0.9850\n",
      "epoch = 1, mini-batch = 7500, loss = 1.1069\n",
      "epoch = 1, mini-batch = 10000, loss = 3.0209\n",
      "epoch = 1, mini-batch = 12500, loss = 1.4863\n",
      "Epoch 1 Complete!\n",
      "epoch = 2, mini-batch = 2500, loss = 0.4299\n",
      "epoch = 2, mini-batch = 5000, loss = 1.5899\n",
      "epoch = 2, mini-batch = 7500, loss = 1.5835\n",
      "epoch = 2, mini-batch = 10000, loss = 2.0693\n",
      "epoch = 2, mini-batch = 12500, loss = 1.2735\n",
      "Epoch 2 Complete!\n",
      "epoch = 3, mini-batch = 2500, loss = 1.0141\n",
      "epoch = 3, mini-batch = 5000, loss = 1.5064\n",
      "epoch = 3, mini-batch = 7500, loss = 1.5293\n",
      "epoch = 3, mini-batch = 10000, loss = 0.4003\n",
      "epoch = 3, mini-batch = 12500, loss = 2.0466\n",
      "Epoch 3 Complete!\n",
      "epoch = 4, mini-batch = 2500, loss = 1.0162\n",
      "epoch = 4, mini-batch = 5000, loss = 1.8804\n",
      "epoch = 4, mini-batch = 7500, loss = 3.1314\n",
      "epoch = 4, mini-batch = 10000, loss = 0.4155\n",
      "epoch = 4, mini-batch = 12500, loss = 1.1406\n",
      "Epoch 4 Complete!\n",
      "epoch = 5, mini-batch = 2500, loss = 1.1731\n",
      "epoch = 5, mini-batch = 5000, loss = 0.6002\n",
      "epoch = 5, mini-batch = 7500, loss = 1.1164\n",
      "epoch = 5, mini-batch = 10000, loss = 0.6818\n",
      "epoch = 5, mini-batch = 12500, loss = 0.5417\n",
      "Epoch 5 Complete!\n",
      "epoch = 6, mini-batch = 2500, loss = 1.0648\n",
      "epoch = 6, mini-batch = 5000, loss = 1.7709\n",
      "epoch = 6, mini-batch = 7500, loss = 1.0211\n",
      "epoch = 6, mini-batch = 10000, loss = 1.8385\n",
      "epoch = 6, mini-batch = 12500, loss = 0.3738\n",
      "Epoch 6 Complete!\n",
      "epoch = 7, mini-batch = 2500, loss = 2.0682\n",
      "epoch = 7, mini-batch = 5000, loss = 0.6062\n",
      "epoch = 7, mini-batch = 7500, loss = 0.4678\n",
      "epoch = 7, mini-batch = 10000, loss = 1.2329\n",
      "epoch = 7, mini-batch = 12500, loss = 0.5685\n",
      "Epoch 7 Complete!\n",
      "epoch = 8, mini-batch = 2500, loss = 0.2355\n",
      "epoch = 8, mini-batch = 5000, loss = 0.5705\n",
      "epoch = 8, mini-batch = 7500, loss = 1.3860\n",
      "epoch = 8, mini-batch = 10000, loss = 1.9581\n",
      "epoch = 8, mini-batch = 12500, loss = 0.7818\n",
      "Epoch 8 Complete!\n",
      "epoch = 9, mini-batch = 2500, loss = 0.1875\n",
      "epoch = 9, mini-batch = 5000, loss = 0.2507\n",
      "epoch = 9, mini-batch = 7500, loss = 0.4761\n",
      "epoch = 9, mini-batch = 10000, loss = 1.0399\n",
      "epoch = 9, mini-batch = 12500, loss = 1.1498\n",
      "Epoch 9 Complete!\n",
      "epoch = 10, mini-batch = 2500, loss = 1.0441\n",
      "epoch = 10, mini-batch = 5000, loss = 0.8156\n",
      "epoch = 10, mini-batch = 7500, loss = 0.8154\n",
      "epoch = 10, mini-batch = 10000, loss = 1.3512\n",
      "epoch = 10, mini-batch = 12500, loss = 0.8780\n",
      "Epoch 10 Complete!\n",
      "epoch = 11, mini-batch = 2500, loss = 1.6729\n",
      "epoch = 11, mini-batch = 5000, loss = 0.3313\n",
      "epoch = 11, mini-batch = 7500, loss = 0.2836\n",
      "epoch = 11, mini-batch = 10000, loss = 0.8244\n",
      "epoch = 11, mini-batch = 12500, loss = 0.6275\n",
      "Epoch 11 Complete!\n",
      "epoch = 12, mini-batch = 2500, loss = 0.3904\n",
      "epoch = 12, mini-batch = 5000, loss = 0.2535\n",
      "epoch = 12, mini-batch = 7500, loss = 0.3991\n",
      "epoch = 12, mini-batch = 10000, loss = 0.6481\n",
      "epoch = 12, mini-batch = 12500, loss = 1.3843\n",
      "Epoch 12 Complete!\n",
      "epoch = 13, mini-batch = 2500, loss = 1.7943\n",
      "epoch = 13, mini-batch = 5000, loss = 0.4643\n",
      "epoch = 13, mini-batch = 7500, loss = 0.3532\n",
      "epoch = 13, mini-batch = 10000, loss = 0.3452\n",
      "epoch = 13, mini-batch = 12500, loss = 0.3373\n",
      "Epoch 13 Complete!\n",
      "epoch = 14, mini-batch = 2500, loss = 0.7411\n",
      "epoch = 14, mini-batch = 5000, loss = 0.8608\n",
      "epoch = 14, mini-batch = 7500, loss = 0.3097\n",
      "epoch = 14, mini-batch = 10000, loss = 0.9285\n",
      "epoch = 14, mini-batch = 12500, loss = 1.3575\n",
      "Epoch 14 Complete!\n",
      "epoch = 15, mini-batch = 2500, loss = 0.9099\n",
      "epoch = 15, mini-batch = 5000, loss = 1.2612\n",
      "epoch = 15, mini-batch = 7500, loss = 0.6677\n",
      "epoch = 15, mini-batch = 10000, loss = 0.3674\n",
      "epoch = 15, mini-batch = 12500, loss = 0.3255\n",
      "Epoch 15 Complete!\n",
      "epoch = 16, mini-batch = 2500, loss = 1.3714\n",
      "epoch = 16, mini-batch = 5000, loss = 0.8413\n",
      "epoch = 16, mini-batch = 7500, loss = 0.9398\n",
      "epoch = 16, mini-batch = 10000, loss = 1.0509\n",
      "epoch = 16, mini-batch = 12500, loss = 0.7522\n",
      "Epoch 16 Complete!\n",
      "epoch = 17, mini-batch = 2500, loss = 0.9803\n",
      "epoch = 17, mini-batch = 5000, loss = 0.5834\n",
      "epoch = 17, mini-batch = 7500, loss = 1.7244\n",
      "epoch = 17, mini-batch = 10000, loss = 0.9521\n",
      "epoch = 17, mini-batch = 12500, loss = 0.6333\n",
      "Epoch 17 Complete!\n",
      "epoch = 18, mini-batch = 2500, loss = 0.2596\n",
      "epoch = 18, mini-batch = 5000, loss = 0.9189\n",
      "epoch = 18, mini-batch = 7500, loss = 0.5729\n",
      "epoch = 18, mini-batch = 10000, loss = 0.0573\n",
      "epoch = 18, mini-batch = 12500, loss = 0.6648\n",
      "Epoch 18 Complete!\n",
      "epoch = 19, mini-batch = 2500, loss = 0.5751\n",
      "epoch = 19, mini-batch = 5000, loss = 0.5013\n",
      "epoch = 19, mini-batch = 7500, loss = 0.5613\n",
      "epoch = 19, mini-batch = 10000, loss = 2.0341\n",
      "epoch = 19, mini-batch = 12500, loss = 0.6891\n",
      "Epoch 19 Complete!\n",
      "epoch = 20, mini-batch = 2500, loss = 1.5589\n",
      "epoch = 20, mini-batch = 5000, loss = 0.1244\n",
      "epoch = 20, mini-batch = 7500, loss = 0.7520\n",
      "epoch = 20, mini-batch = 10000, loss = 0.5141\n",
      "epoch = 20, mini-batch = 12500, loss = 1.1433\n",
      "Epoch 20 Complete!\n",
      "epoch = 21, mini-batch = 2500, loss = 0.5835\n",
      "epoch = 21, mini-batch = 5000, loss = 0.4766\n",
      "epoch = 21, mini-batch = 7500, loss = 2.3308\n",
      "epoch = 21, mini-batch = 10000, loss = 1.3762\n",
      "epoch = 21, mini-batch = 12500, loss = 2.1542\n",
      "Epoch 21 Complete!\n",
      "epoch = 22, mini-batch = 2500, loss = 0.3577\n",
      "epoch = 22, mini-batch = 5000, loss = 1.1967\n",
      "epoch = 22, mini-batch = 7500, loss = 0.0486\n",
      "epoch = 22, mini-batch = 10000, loss = 1.0992\n",
      "epoch = 22, mini-batch = 12500, loss = 1.4301\n",
      "Epoch 22 Complete!\n",
      "epoch = 23, mini-batch = 2500, loss = 0.1488\n",
      "epoch = 23, mini-batch = 5000, loss = 1.0212\n",
      "epoch = 23, mini-batch = 7500, loss = 0.0752\n",
      "epoch = 23, mini-batch = 10000, loss = 1.7469\n",
      "epoch = 23, mini-batch = 12500, loss = 0.0222\n",
      "Epoch 23 Complete!\n",
      "epoch = 24, mini-batch = 2500, loss = 0.3786\n",
      "epoch = 24, mini-batch = 5000, loss = 0.5147\n",
      "epoch = 24, mini-batch = 7500, loss = 1.0480\n",
      "epoch = 24, mini-batch = 10000, loss = 1.4695\n",
      "epoch = 24, mini-batch = 12500, loss = 2.2605\n",
      "Epoch 24 Complete!\n",
      "epoch = 25, mini-batch = 2500, loss = 1.3665\n",
      "epoch = 25, mini-batch = 5000, loss = 0.6681\n",
      "epoch = 25, mini-batch = 7500, loss = 0.1476\n",
      "epoch = 25, mini-batch = 10000, loss = 1.3541\n",
      "epoch = 25, mini-batch = 12500, loss = 0.8417\n",
      "Epoch 25 Complete!\n",
      "epoch = 26, mini-batch = 2500, loss = 0.8422\n",
      "epoch = 26, mini-batch = 5000, loss = 1.0621\n",
      "epoch = 26, mini-batch = 7500, loss = 0.4698\n",
      "epoch = 26, mini-batch = 10000, loss = 0.5662\n",
      "epoch = 26, mini-batch = 12500, loss = 0.2629\n",
      "Epoch 26 Complete!\n",
      "epoch = 27, mini-batch = 2500, loss = 0.2311\n",
      "epoch = 27, mini-batch = 5000, loss = 0.1189\n",
      "epoch = 27, mini-batch = 7500, loss = 1.1862\n",
      "epoch = 27, mini-batch = 10000, loss = 0.2480\n",
      "epoch = 27, mini-batch = 12500, loss = 0.6116\n",
      "Epoch 27 Complete!\n",
      "epoch = 28, mini-batch = 2500, loss = 0.2904\n",
      "epoch = 28, mini-batch = 5000, loss = 0.0575\n",
      "epoch = 28, mini-batch = 7500, loss = 0.8145\n",
      "epoch = 28, mini-batch = 10000, loss = 0.2033\n",
      "epoch = 28, mini-batch = 12500, loss = 0.3850\n",
      "Epoch 28 Complete!\n",
      "epoch = 29, mini-batch = 2500, loss = 0.3088\n",
      "epoch = 29, mini-batch = 5000, loss = 0.1042\n",
      "epoch = 29, mini-batch = 7500, loss = 0.7912\n",
      "epoch = 29, mini-batch = 10000, loss = 0.4973\n",
      "epoch = 29, mini-batch = 12500, loss = 0.5335\n",
      "Epoch 29 Complete!\n",
      "epoch = 30, mini-batch = 2500, loss = 0.4168\n",
      "epoch = 30, mini-batch = 5000, loss = 0.5487\n",
      "epoch = 30, mini-batch = 7500, loss = 0.2882\n",
      "epoch = 30, mini-batch = 10000, loss = 3.6142\n",
      "epoch = 30, mini-batch = 12500, loss = 1.0900\n",
      "Epoch 30 Complete!\n"
     ]
    }
   ],
   "source": [
    "losses = []\n",
    "\n",
    "for epoch in range(num_epochs):\n",
    "    for i, (images, labels) in enumerate(train_loader):\n",
    "\n",
    "        # forward pass\n",
    "        outputs = model(images)\n",
    "        loss = loss_fn(outputs, labels)\n",
    "\n",
    "        # backward pass\n",
    "        optimizer.zero_grad()\n",
    "        loss.backward()\n",
    "        optimizer.step()\n",
    "\n",
    "        losses.append(loss.item())\n",
    "        \n",
    "        if (i+1) % 2500 == 0:\n",
    "            print(f\"epoch = {epoch+1}, mini-batch = {i+1}, loss = {loss.item():.4f}\")\n",
    "    print(f\"Epoch {epoch+1} Complete!\")"
   ]
  },
  {
   "cell_type": "code",
   "execution_count": 18,
   "metadata": {},
   "outputs": [
    {
     "data": {
      "text/plain": [
       "Text(0, 0.5, 'loss')"
      ]
     },
     "execution_count": 18,
     "metadata": {},
     "output_type": "execute_result"
    },
    {
     "data": {
      "image/png": "[encoded data removed]",
      "text/plain": [
       "<Figure size 640x480 with 1 Axes>"
      ]
     },
     "metadata": {},
     "output_type": "display_data"
    }
   ],
   "source": [
    "plt.plot(losses)\n",
    "plt.title(\"Loss\")\n",
    "plt.xlabel(\"iteration\")\n",
    "plt.ylabel(\"loss\")"
   ]
  },
  {
   "attachments": {},
   "cell_type": "markdown",
   "metadata": {},
   "source": [
    "## Testing"
   ]
  },
  {
   "cell_type": "code",
   "execution_count": 19,
   "metadata": {},
   "outputs": [
    {
     "name": "stdout",
     "output_type": "stream",
     "text": [
      "Output shape :  torch.Size([4, 10])\n",
      "Prediction shape :  torch.Size([4])\n",
      "Label shape :  torch.Size([4])\n"
     ]
    }
   ],
   "source": [
    "print(\"Output shape : \", outputs.shape)\n",
    "\n",
    "_, predictions = torch.max(outputs, dim=1)      # keepDims=False by default\n",
    "print(\"Prediction shape : \", predictions.shape)\n",
    "\n",
    "print(\"Label shape : \", labels.shape)"
   ]
  },
  {
   "cell_type": "code",
   "execution_count": 20,
   "metadata": {},
   "outputs": [
    {
     "name": "stdout",
     "output_type": "stream",
     "text": [
      "Accuracy = 60.79%\n"
     ]
    }
   ],
   "source": [
    "with torch.no_grad():\n",
    "    n_correct = 0\n",
    "    n_total = 0\n",
    "    n_class_correct = [0]*len(CLASSES)\n",
    "    n_class_total = [0]*len(CLASSES)\n",
    "    for images, labels in test_loader:\n",
    "        outputs = model(images)\n",
    "        _, predictions = torch.max(outputs, dim=1)\n",
    "\n",
    "        n_total += outputs.shape[0]\n",
    "        n_correct += (predictions==labels).sum().item()\n",
    "\n",
    "        for i in range(batch_size):\n",
    "            n_class_total[labels[i]] += 1\n",
    "            n_class_correct[labels[i]] += 1 if labels[i]==predictions[i] else 0\n",
    "\n",
    "acc = 100.0*n_correct/n_total\n",
    "\n",
    "print(f'Accuracy = {acc:.2f}%')"
   ]
  },
  {
   "cell_type": "code",
   "execution_count": 21,
   "metadata": {},
   "outputs": [
    {
     "name": "stdout",
     "output_type": "stream",
     "text": [
      "Class wise accuracies :\n",
      "\n",
      "\t Plane \t 64.4%\n",
      "\t Car \t 72.4%\n",
      "\t Bird \t 55.3%\n",
      "\t Cat \t 40.5%\n",
      "\t Deer \t 45.4%\n",
      "\t Dog \t 55.3%\n",
      "\t Frog \t 69.1%\n",
      "\t Horse \t 62.6%\n",
      "\t Ship \t 69.0%\n",
      "\t Truck \t 73.9%\n"
     ]
    }
   ],
   "source": [
    "print(\"Class wise accuracies :\")\n",
    "print(\"\")\n",
    "acc_class = [0]*10\n",
    "for i in range(len(CLASSES)):\n",
    "    acc_class = 100.0*n_class_correct[i]/n_class_total[i]\n",
    "    print(f'\\t {CLASSES[i]} \\t {acc_class}%')"
   ]
  },
  {
   "attachments": {},
   "cell_type": "markdown",
   "metadata": {},
   "source": [
    "Train for more epochs to obtain a better accuracy"
   ]
  },
  {
   "attachments": {},
   "cell_type": "markdown",
   "metadata": {},
   "source": [
    "### After 4 epochs:\n",
    "\n",
    "\tAccuracy = 59.17%\n",
    "\n",
    "\t Plane \t 73.1%\n",
    "\t Car \t 59.0%\n",
    "\t Bird \t 45.5%\n",
    "\t Cat \t 45.2%\n",
    "\t Deer \t 57.4%\n",
    "\t Dog \t 45.7%\n",
    "\t Frog \t 73.2%\n",
    "\t Horse \t 56.0%\n",
    "\t Ship \t 70.2%\n",
    "\t Truck \t 66.4%"
   ]
  },
  {
   "attachments": {},
   "cell_type": "markdown",
   "metadata": {},
   "source": [
    "### After 30 epochs:\n",
    "\n",
    "\t Accuracy = 60.79%\n",
    "\n",
    "     Plane \t 64.4%\n",
    "\t Car \t 72.4%\n",
    "\t Bird \t 55.3%\n",
    "\t Cat \t 40.5%\n",
    "\t Deer \t 45.4%\n",
    "\t Dog \t 55.3%\n",
    "\t Frog \t 69.1%\n",
    "\t Horse \t 62.6%\n",
    "\t Ship \t 69.0%\n",
    "\t Truck \t 73.9%"
   ]
  }
 ],
 "metadata": {
  "kernelspec": {
   "display_name": "base",
   "language": "python",
   "name": "python3"
  },
  "language_info": {
   "codemirror_mode": {
    "name": "ipython",
    "version": 3
   },
   "file_extension": ".py",
   "mimetype": "text/x-python",
   "name": "python",
   "nbconvert_exporter": "python",
   "pygments_lexer": "ipython3",
   "version": "3.9.13"
  },
  "orig_nbformat": 4,
  "vscode": {
   "interpreter": {
    "hash": "ad2bdc8ecc057115af97d19610ffacc2b4e99fae6737bb82f5d7fb13d2f2c186"
   }
  }
 },
 "nbformat": 4,
 "nbformat_minor": 2
}
